{
 "cells": [
  {
   "cell_type": "markdown",
   "id": "e348e142",
   "metadata": {},
   "source": [
    "# DAY-3: DATA STRUCTURE\n",
    "- Four Types:\\\n",
    "    _List_\\\n",
    "    _Tuple_\\\n",
    "    _Dictionary_\\\n",
    "    _Sets_"
   ]
  },
  {
   "cell_type": "markdown",
   "id": "47d0282a",
   "metadata": {},
   "source": [
    "## 1- List\n",
    "List items are ordered, changeable, and allow duplicate values."
   ]
  },
  {
   "cell_type": "code",
   "execution_count": 2,
   "id": "46ccf085",
   "metadata": {},
   "outputs": [],
   "source": [
    "List = ['pakora','samosa','biryani', 'dahi balay']"
   ]
  },
  {
   "cell_type": "markdown",
   "id": "2b3429c9",
   "metadata": {},
   "source": [
    "List index() : The index() method returns the index of the specified element in the list.\n",
    "\n",
    "List append() : The append() method adds an item to the end of the list.\n",
    "\n",
    "List extend() : The extend() method adds all the elements of an iterable (list, tuple, string etc.) to the end of the list.\n",
    "\n",
    "List insert() : The insert() method inserts an element to the list at the specified index.\n",
    "\n",
    "List remove() : The remove() method removes the first matching element (which is passed as an argument) from the list.\n",
    "\n",
    "List count() : The count() method returns the number of times the specified element appears in the list.\n",
    "\n",
    "List pop() : The pop() method removes the item at the given index from the list and returns the removed item.\n",
    "\n",
    "List reverse() : The pop() method removes the item at the given index from the list and returns the removed item.\n",
    "\n",
    "List sort() : The sort() method sorts the elements of a given list in a specific ascending or descending order.\n",
    "\n",
    "List copy() : The copy() method returns a shallow copy of the list.\n",
    "\n",
    "List clear() : The clear() method removes all items from the list."
   ]
  },
  {
   "cell_type": "code",
   "execution_count": 5,
   "id": "1191547a",
   "metadata": {},
   "outputs": [
    {
     "data": {
      "text/plain": [
       "['pakora', 'samosa', 'biryani', 'dahi balay', 6, 6]"
      ]
     },
     "execution_count": 5,
     "metadata": {},
     "output_type": "execute_result"
    }
   ],
   "source": [
    "List.append(6)\n",
    "List"
   ]
  },
  {
   "cell_type": "code",
   "execution_count": 10,
   "id": "f2b390ea",
   "metadata": {},
   "outputs": [
    {
     "data": {
      "text/plain": [
       "['pakora', 'dahi balay', 6, 6]"
      ]
     },
     "execution_count": 10,
     "metadata": {},
     "output_type": "execute_result"
    }
   ],
   "source": [
    "List.remove('samosa')\n",
    "List"
   ]
  },
  {
   "cell_type": "markdown",
   "id": "65a78eef",
   "metadata": {},
   "source": [
    "## 2-Tuples:\n",
    "- Tuples are used to store multiple items in a single variable.\n",
    "- A tuple is a collection which is ordered and unchangeable.\n",
    "- Tuples are written with round brackets.\n",
    "- Tuple items can be of any data type:\n",
    "    - string\n",
    "    - boolean\n",
    "    - integer"
   ]
  },
  {
   "cell_type": "code",
   "execution_count": 3,
   "id": "64fba6bd",
   "metadata": {},
   "outputs": [],
   "source": [
    "tuple = ('biryani','chawal', 'kalool')"
   ]
  },
  {
   "cell_type": "markdown",
   "id": "2954eac9",
   "metadata": {},
   "source": [
    "## 3-Dictionary\n",
    "- An unordered collection of material\n",
    "- Key (samosa) and value (30)\n",
    "- Curly braces or braket {}\n",
    "- Mutaeble/ or change the values"
   ]
  },
  {
   "cell_type": "code",
   "execution_count": 4,
   "id": "135c6bb7",
   "metadata": {},
   "outputs": [
    {
     "data": {
      "text/plain": [
       "{'samosa': 30, 'pakora': 60, 'raita': 20, 'salad': 10, 'chicken roll': 30}"
      ]
     },
     "execution_count": 4,
     "metadata": {},
     "output_type": "execute_result"
    }
   ],
   "source": [
    "#Food and their prices\n",
    "food1 = {\"samosa\":30, \"pakora\":60, \"raita\":20, \"salad\":10, \"chicken roll\":30}\n",
    "food1"
   ]
  },
  {
   "cell_type": "code",
   "execution_count": 5,
   "id": "9109ecfc",
   "metadata": {},
   "outputs": [
    {
     "data": {
      "text/plain": [
       "dict"
      ]
     },
     "execution_count": 5,
     "metadata": {},
     "output_type": "execute_result"
    }
   ],
   "source": [
    "type(food1)"
   ]
  },
  {
   "cell_type": "code",
   "execution_count": 7,
   "id": "0b491188",
   "metadata": {},
   "outputs": [
    {
     "data": {
      "text/plain": [
       "dict_keys(['samosa', 'pakora', 'raita', 'salad', 'chicken roll'])"
      ]
     },
     "execution_count": 7,
     "metadata": {},
     "output_type": "execute_result"
    }
   ],
   "source": [
    "# extract data\n",
    "keys1 = food1.keys()\n",
    "keys1"
   ]
  },
  {
   "cell_type": "code",
   "execution_count": 8,
   "id": "ee027460",
   "metadata": {},
   "outputs": [
    {
     "data": {
      "text/plain": [
       "dict_values([30, 60, 20, 10, 30])"
      ]
     },
     "execution_count": 8,
     "metadata": {},
     "output_type": "execute_result"
    }
   ],
   "source": [
    "values1= food1.values()\n",
    "values1"
   ]
  },
  {
   "cell_type": "code",
   "execution_count": 9,
   "id": "aa6aea83",
   "metadata": {},
   "outputs": [
    {
     "data": {
      "text/plain": [
       "{'samosa': 30,\n",
       " 'pakora': 60,\n",
       " 'raita': 20,\n",
       " 'salad': 10,\n",
       " 'chicken roll': 30,\n",
       " 'TIKKI': 10}"
      ]
     },
     "execution_count": 9,
     "metadata": {},
     "output_type": "execute_result"
    }
   ],
   "source": [
    "# adding new elements\n",
    "food1[\"TIKKI\"]=10\n",
    "food1"
   ]
  },
  {
   "cell_type": "code",
   "execution_count": 10,
   "id": "f4af1fa3",
   "metadata": {},
   "outputs": [
    {
     "data": {
      "text/plain": [
       "{'samosa': 30,\n",
       " 'pakora': 60,\n",
       " 'raita': 20,\n",
       " 'salad': 10,\n",
       " 'chicken roll': 30,\n",
       " 'TIKKI': 13}"
      ]
     },
     "execution_count": 10,
     "metadata": {},
     "output_type": "execute_result"
    }
   ],
   "source": [
    "# update the values\n",
    "food1[\"TIKKI\"]=13\n",
    "food1"
   ]
  },
  {
   "cell_type": "code",
   "execution_count": 11,
   "id": "f4536698",
   "metadata": {},
   "outputs": [
    {
     "data": {
      "text/plain": [
       "{'chai': 30, 'dates': 50, 'chawal': 150, 'golgapay': 500}"
      ]
     },
     "execution_count": 11,
     "metadata": {},
     "output_type": "execute_result"
    }
   ],
   "source": [
    "food2={\"chai\":30, \"dates\":50, \"chawal\":150, \"golgapay\":500}\n",
    "food2"
   ]
  },
  {
   "cell_type": "code",
   "execution_count": 14,
   "id": "18e3b8a5",
   "metadata": {},
   "outputs": [
    {
     "data": {
      "text/plain": [
       "{'samosa': 30,\n",
       " 'pakora': 60,\n",
       " 'raita': 20,\n",
       " 'salad': 10,\n",
       " 'chicken roll': 30,\n",
       " 'TIKKI': 13,\n",
       " 'chai': 30,\n",
       " 'dates': 50,\n",
       " 'chawal': 150,\n",
       " 'golgapay': 500}"
      ]
     },
     "execution_count": 14,
     "metadata": {},
     "output_type": "execute_result"
    }
   ],
   "source": [
    "# concatenate in dictionary\n",
    "food1.update(food2)\n",
    "food1"
   ]
  },
  {
   "cell_type": "markdown",
   "id": "6c0f3b3c",
   "metadata": {},
   "source": [
    "# 4-Sets\n",
    "- Unordered and Unindexed\n",
    "- Use with Curly braces {}\n",
    "- No dublicates allowed\n",
    "- No Boolean"
   ]
  },
  {
   "cell_type": "code",
   "execution_count": 17,
   "id": "8e7db678",
   "metadata": {},
   "outputs": [
    {
     "data": {
      "text/plain": [
       "{-2, 1, 5.2, 'daud', 'peshawar'}"
      ]
     },
     "execution_count": 17,
     "metadata": {},
     "output_type": "execute_result"
    }
   ],
   "source": [
    "s1 = {1, -2, \"daud\", \"peshawar\", 5.2, True}\n",
    "s1"
   ]
  },
  {
   "cell_type": "code",
   "execution_count": 21,
   "id": "02c86680",
   "metadata": {},
   "outputs": [
    {
     "data": {
      "text/plain": [
       "{-2, 1, 5.2, 'daud', 'khan', 'peshawar'}"
      ]
     },
     "execution_count": 21,
     "metadata": {},
     "output_type": "execute_result"
    }
   ],
   "source": [
    "s1.add(\"khan\")\n",
    "s1"
   ]
  },
  {
   "cell_type": "code",
   "execution_count": null,
   "id": "21bfd5f8",
   "metadata": {},
   "outputs": [],
   "source": []
  }
 ],
 "metadata": {
  "kernelspec": {
   "display_name": "Python 3 (ipykernel)",
   "language": "python",
   "name": "python3"
  },
  "language_info": {
   "codemirror_mode": {
    "name": "ipython",
    "version": 3
   },
   "file_extension": ".py",
   "mimetype": "text/x-python",
   "name": "python",
   "nbconvert_exporter": "python",
   "pygments_lexer": "ipython3",
   "version": "3.10.1"
  }
 },
 "nbformat": 4,
 "nbformat_minor": 5
}
